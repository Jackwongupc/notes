{
 "cells": [
  {
   "cell_type": "code",
   "execution_count": 1,
   "metadata": {
    "collapsed": true
   },
   "outputs": [],
   "source": [
    "class Singleton(object):\n",
    "    def __new__(cls, *args, **kwargs):\n",
    "        if not hasattr(cls, 'instance'):\n",
    "            cls.instance = super(Singleton, cls).__new__(cls)\n",
    "        return cls.instance\n",
    "    \n",
    "s = Singleton()"
   ]
  },
  {
   "cell_type": "code",
   "execution_count": 2,
   "metadata": {},
   "outputs": [
    {
     "name": "stdout",
     "output_type": "stream",
     "text": [
      "object create <__main__.Singleton object at 0x0000021F8EEBE588>\nobject create <__main__.Singleton object at 0x0000021F8EEBE588>\n"
     ]
    }
   ],
   "source": [
    "print(\"object create\",s)\n",
    "s1 = Singleton()\n",
    "print(\"object create\", s1)"
   ]
  },
  {
   "cell_type": "code",
   "execution_count": 5,
   "metadata": {
    "collapsed": false
   },
   "outputs": [
    {
     "name": "stdout",
     "output_type": "stream",
     "text": [
      "__init__ method called ..\n<__main__.Singleton object at 0x0000021F8EF83390>\n__init__ method called ..\n<__main__.Singleton object at 0x0000021F8EEBE7F0>\ninstance already created: <__main__.Singleton object at 0x0000021F8EEBE7F0>\n<__main__.Singleton object at 0x0000021F8EF83320>\n"
     ]
    }
   ],
   "source": [
    "class Singleton:\n",
    "    __instance = None\n",
    "    \n",
    "    def __init__(self):\n",
    "        if not Singleton.__instance:\n",
    "            print(\"__init__ method called ..\")\n",
    "        else:\n",
    "            print(\"instance already created:\", self.getInstance())\n",
    "    \n",
    "    @classmethod\n",
    "    def getInstance(cls):\n",
    "        if not cls.__instance:\n",
    "            cls.__instance = Singleton()\n",
    "        return cls.__instance\n",
    "\n",
    "\n",
    "s = Singleton()\n",
    "print(s)\n",
    "print(Singleton.getInstance())\n",
    "s1 = Singleton()\n",
    "print(s1)"
   ]
  },
  {
   "cell_type": "markdown",
   "metadata": {},
   "source": [
    "## Monostate 单例模式"
   ]
  },
  {
   "cell_type": "code",
   "execution_count": 6,
   "metadata": {},
   "outputs": [
    {
     "name": "stdout",
     "output_type": "stream",
     "text": [
      "<__main__.Borg object at 0x0000021F8EF9B160>\n<__main__.Borg object at 0x0000021F8EF9B128>\n{'1': '2', 'x': 4}\n{'1': '2', 'x': 4}\n"
     ]
    }
   ],
   "source": [
    "class Borg:\n",
    "    __shared_state = {'1': '2'}\n",
    "    \n",
    "    def __init__(self):\n",
    "        self.x = 1\n",
    "        self.__dict__ = self.__shared_state\n",
    "\n",
    "b = Borg()\n",
    "b1 = Borg()\n",
    "b.x = 4\n",
    "\n",
    "print(b)\n",
    "print(b1)\n",
    "print(b.__dict__)\n",
    "print(b1.__dict__)"
   ]
  },
  {
   "cell_type": "code",
   "execution_count": 9,
   "metadata": {},
   "outputs": [],
   "source": [
    "class Borg(object):\n",
    "    _shared_state = {}\n",
    "    \n",
    "    def __new__(cls, *args, **kwargs):\n",
    "        obj = super(Borg, cls).__new__(cls, *args, **kwargs)\n",
    "        obj.__dict__ = cls._shared_state\n",
    "        return obj"
   ]
  },
  {
   "cell_type": "code",
   "execution_count": 11,
   "metadata": {},
   "outputs": [
    {
     "name": "stdout",
     "output_type": "stream",
     "text": [
      "<__main__.Borg object at 0x0000021F8EF8C978>\n<__main__.Borg object at 0x0000021F8EF8C940>\n{'1': '2'}\n{'1': '2'}\n"
     ]
    }
   ],
   "source": [
    "b = Borg()\n",
    "b1 = Borg()\n",
    "b.__setattr__('1','2')\n",
    "print(b)\n",
    "print(b1)\n",
    "print(b.__dict__)\n",
    "print(b1.__dict__)"
   ]
  },
  {
   "cell_type": "code",
   "execution_count": 17,
   "metadata": {},
   "outputs": [
    {
     "name": "stdout",
     "output_type": "stream",
     "text": [
      "*** here's my int ** (5, 6)\nnow do whatever you want with these objects ...\n(5,6)\n"
     ]
    }
   ],
   "source": [
    "class MyInt(type):\n",
    "    def __call__(cls, *args, **kwargs):\n",
    "        print(\"*** here's my int **\", args)\n",
    "        print(\"now do whatever you want with these objects ...\")\n",
    "        return type.__call__(cls, *args, **kwargs)\n",
    "    \n",
    "\n",
    "class Int2(metaclass=MyInt):\n",
    "    def __init__(self, x, y):\n",
    "        self.x = x\n",
    "        self.y = y\n",
    "        \n",
    "    def __str__(self):\n",
    "        return \"(\"+str(self.x)+\",\"+str(self.y)+\")\"\n",
    "i = Int2(5, 6)\n",
    "print(i)"
   ]
  },
  {
   "cell_type": "code",
   "execution_count": 25,
   "metadata": {},
   "outputs": [
    {
     "name": "stdout",
     "output_type": "stream",
     "text": [
      "222\n1111\n222\n1111\n{<class '__main__.Logger2'>: <__main__.Logger2 object at 0x0000021F8EF85F60>, <class '__main__.Logger'>: <__main__.Logger object at 0x0000021F8EF85908>}\n"
     ]
    }
   ],
   "source": [
    "class MetaSingleton(type):\n",
    "    _instances = {}\n",
    "    \n",
    "    def __call__(cls, *args, **kwargs):\n",
    "        print(\"222\")\n",
    "        if cls not in cls._instances:\n",
    "            cls._instances[cls] = super(MetaSingleton, cls).__call__(*args, **kwargs)\n",
    "        return cls._instances\n",
    "    \n",
    "\n",
    "class Logger(metaclass=MetaSingleton):\n",
    "    def __init__(self):\n",
    "        print(\"1111\")\n",
    "    pass\n",
    "\n",
    "\n",
    "class Logger2(metaclass=MetaSingleton):\n",
    "    def __init__(self):\n",
    "        print(\"1111\")\n",
    "    pass\n",
    "\n",
    "logger1 = Logger()\n",
    "logger2 = Logger2()\n",
    "\n",
    "print(logger1)"
   ]
  },
  {
   "cell_type": "code",
   "execution_count": null,
   "metadata": {},
   "outputs": [],
   "source": [
    ""
   ]
  },
  {
   "cell_type": "code",
   "execution_count": null,
   "metadata": {},
   "outputs": [],
   "source": [
    ""
   ]
  }
 ],
 "metadata": {
  "kernelspec": {
   "display_name": "Python 2",
   "language": "python",
   "name": "python2"
  },
  "language_info": {
   "codemirror_mode": {
    "name": "ipython",
    "version": 2.0
   },
   "file_extension": ".py",
   "mimetype": "text/x-python",
   "name": "python",
   "nbconvert_exporter": "python",
   "pygments_lexer": "ipython2",
   "version": "2.7.6"
  }
 },
 "nbformat": 4,
 "nbformat_minor": 0
}