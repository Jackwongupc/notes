{
 "cells": [
  {
   "cell_type": "code",
   "execution_count": 7,
   "metadata": {
    "collapsed": true
   },
   "outputs": [
    {
     "name": "stdout",
     "output_type": "stream",
     "text": [
      "meow meow\n"
     ]
    }
   ],
   "source": [
    "from abc import ABCMeta,abstractmethod\n",
    "\n",
    "\n",
    "class Animal(metaclass=ABCMeta):\n",
    "    @abstractmethod\n",
    "    def do_say(self):\n",
    "        pass\n",
    "\n",
    "\n",
    "class Dog(Animal):\n",
    "    def do_say(self):\n",
    "        print(\"bhow bhow\")\n",
    "    \n",
    "    \n",
    "class Cat(Animal):\n",
    "    def do_say(self):\n",
    "        print(\"meow meow\")\n",
    "\n",
    "\n",
    "class ForestFactory(object):\n",
    "    @staticmethod\n",
    "    def make_sound(object_type):\n",
    "        return eval(object_type)().do_say()\n",
    "    \n",
    "# animal = input(\"which animal should make_sound Dog or Cat?\")\n",
    "animal = \"Cat\"\n",
    "ForestFactory.make_sound(animal)"
   ]
  },
  {
   "cell_type": "markdown",
   "metadata": {},
   "source": [
    "## 实现工厂方法"
   ]
  },
  {
   "cell_type": "code",
   "execution_count": 8,
   "metadata": {},
   "outputs": [],
   "source": [
    "from abc import ABCMeta, abstractmethod\n",
    "\n",
    "\n",
    "class Section(metaclass=ABCMeta):\n",
    "    @abstractmethod\n",
    "    def describe(self):\n",
    "        pass\n",
    "\n",
    "\n",
    "class PersonalSection(Section):\n",
    "    def describe(self):\n",
    "        print(\"personal section\")\n",
    "\n",
    "\n",
    "class AlbumSection(Section):\n",
    "    def describe(self):\n",
    "        print(\"album section\")\n",
    "        \n",
    "\n",
    "class PatentSection(Section):\n",
    "    def describe(self):\n",
    "        print(\"patent section\")\n",
    "        \n",
    "        \n",
    "class PublicationSection(Section):\n",
    "    def describe(self):\n",
    "        print(\"public section\")"
   ]
  },
  {
   "cell_type": "code",
   "execution_count": 13,
   "metadata": {},
   "outputs": [],
   "source": [
    "class Profile(metaclass=ABCMeta):\n",
    "    def __init__(self):\n",
    "        self.section = []\n",
    "        self.createProfile()\n",
    "\n",
    "    @abstractmethod\n",
    "    def createProfile(self):\n",
    "        pass\n",
    "\n",
    "    def getSections(self):\n",
    "        return self.section\n",
    "\n",
    "    def addSection(self, sect):\n",
    "        self.section.append(sect)\n",
    "\n",
    "\n",
    "class linkedin(Profile):\n",
    "    def createProfile(self):\n",
    "        self.addSection(PersonalSection())\n",
    "        self.addSection(PatentSection())\n",
    "        \n",
    "        \n",
    "class facebook(Profile):\n",
    "    def createProfile(self):\n",
    "        self.addSection(PersonalSection())\n",
    "        self.addSection(AlbumSection())"
   ]
  },
  {
   "cell_type": "code",
   "execution_count": 14,
   "metadata": {},
   "outputs": [
    {
     "name": "stdout",
     "output_type": "stream",
     "text": [
      "[<__main__.PersonalSection object at 0x00000241C147C940>, <__main__.AlbumSection object at 0x00000241C147C978>]\n"
     ]
    }
   ],
   "source": [
    "profile_type = \"facebook\"\n",
    "profile = eval(profile_type)()\n",
    "print(profile.getSections())"
   ]
  },
  {
   "cell_type": "markdown",
   "metadata": {},
   "source": [
    "# 抽象工厂模式"
   ]
  },
  {
   "cell_type": "code",
   "execution_count": null,
   "metadata": {},
   "outputs": [],
   "source": [
    ""
   ]
  },
  {
   "cell_type": "code",
   "execution_count": null,
   "metadata": {},
   "outputs": [],
   "source": [
    ""
   ]
  },
  {
   "cell_type": "code",
   "execution_count": null,
   "metadata": {},
   "outputs": [],
   "source": [
    ""
   ]
  },
  {
   "cell_type": "code",
   "execution_count": null,
   "metadata": {},
   "outputs": [],
   "source": [
    ""
   ]
  }
 ],
 "metadata": {
  "kernelspec": {
   "display_name": "Python 2",
   "language": "python",
   "name": "python2"
  },
  "language_info": {
   "codemirror_mode": {
    "name": "ipython",
    "version": 2.0
   },
   "file_extension": ".py",
   "mimetype": "text/x-python",
   "name": "python",
   "nbconvert_exporter": "python",
   "pygments_lexer": "ipython2",
   "version": "2.7.6"
  }
 },
 "nbformat": 4,
 "nbformat_minor": 0
}