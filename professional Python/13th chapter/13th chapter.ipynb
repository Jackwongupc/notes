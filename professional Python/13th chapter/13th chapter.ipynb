{
 "cells": [
  {
   "cell_type": "code",
   "execution_count": 1,
   "metadata": {
    "collapsed": true
   },
   "outputs": [
    {
     "data": {
      "text/plain": [
       "False"
      ]
     },
     "execution_count": 1,
     "metadata": {},
     "output_type": "execute_result"
    }
   ],
   "source": [
    "import asyncio\n",
    "\n",
    "\n",
    "loop = asyncio.get_event_loop()\n",
    "loop.is_running()"
   ]
  },
  {
   "cell_type": "code",
   "execution_count": 2,
   "metadata": {},
   "outputs": [
    {
     "data": {
      "text/plain": [
       "<Handle hello_world() at <ipython-input-2-63b9d7810e6e>:4>"
      ]
     },
     "execution_count": 2,
     "metadata": {},
     "output_type": "execute_result"
    }
   ],
   "source": [
    "import functools\n",
    "\n",
    "\n",
    "def hello_world():\n",
    "    print('hello world!')\n",
    "    \n",
    "\n",
    "def stop_loop(loop):\n",
    "    print('stopping loop')\n",
    "    loop.stop()\n",
    "\n",
    "loop.call_soon(hello_world)"
   ]
  },
  {
   "cell_type": "code",
   "execution_count": 3,
   "metadata": {},
   "outputs": [
    {
     "data": {
      "text/plain": [
       "<Handle stop_loop(<_WindowsSele...e debug=False>)() at <ipython-input-2-63b9d7810e6e>:8>"
      ]
     },
     "execution_count": 3,
     "metadata": {},
     "output_type": "execute_result"
    }
   ],
   "source": [
    "loop.call_soon(functools.partial(stop_loop, loop))"
   ]
  },
  {
   "cell_type": "code",
   "execution_count": 4,
   "metadata": {},
   "outputs": [
    {
     "name": "stdout",
     "output_type": "stream",
     "text": [
      "hello world!\nstopping loop\n"
     ]
    }
   ],
   "source": [
    "loop.run_forever()"
   ]
  },
  {
   "cell_type": "code",
   "execution_count": 5,
   "metadata": {},
   "outputs": [
    {
     "data": {
      "text/plain": [
       "<TimerHandle when=126201.078 stop_loop(<_WindowsSele...e debug=False>)() at <ipython-input-2-63b9d7810e6e>:8>"
      ]
     },
     "execution_count": 5,
     "metadata": {},
     "output_type": "execute_result"
    }
   ],
   "source": [
    "loop.call_later(10, hello_world)\n",
    "loop.call_later(20, functools.partial(stop_loop, loop))"
   ]
  },
  {
   "cell_type": "code",
   "execution_count": 6,
   "metadata": {},
   "outputs": [
    {
     "name": "stdout",
     "output_type": "stream",
     "text": [
      "hello world!\n"
     ]
    },
    {
     "name": "stdout",
     "output_type": "stream",
     "text": [
      "stopping loop\n"
     ]
    }
   ],
   "source": [
    "loop.run_forever()"
   ]
  },
  {
   "cell_type": "code",
   "execution_count": 7,
   "metadata": {},
   "outputs": [],
   "source": [
    "@asyncio.coroutine\n",
    "def trivial():\n",
    "    return 'hello world'"
   ]
  },
  {
   "cell_type": "code",
   "execution_count": 9,
   "metadata": {},
   "outputs": [
    {
     "data": {
      "text/plain": [
       "'hello world'"
      ]
     },
     "execution_count": 9,
     "metadata": {},
     "output_type": "execute_result"
    }
   ],
   "source": [
    "loop.run_until_complete(trivial())"
   ]
  },
  {
   "cell_type": "code",
   "execution_count": 12,
   "metadata": {},
   "outputs": [],
   "source": [
    "import asyncio\n",
    "import threading\n",
    "\n",
    "\n",
    "def run_loop_forever_in_background(loop):\n",
    "    def thread_fun(l):\n",
    "        asyncio.set_event_loop(l)\n",
    "        l.run_forever()\n",
    "    thread = threading.Thread(target=thread_fun, args=(loop,))\n",
    "    thread.start()\n",
    "    return thread"
   ]
  },
  {
   "cell_type": "code",
   "execution_count": 13,
   "metadata": {},
   "outputs": [
    {
     "data": {
      "text/plain": [
       "True"
      ]
     },
     "execution_count": 13,
     "metadata": {},
     "output_type": "execute_result"
    }
   ],
   "source": [
    "loop = asyncio.get_event_loop()\n",
    "thread = run_loop_forever_in_background(loop)\n",
    "loop.is_running()"
   ]
  },
  {
   "cell_type": "code",
   "execution_count": 1,
   "metadata": {},
   "outputs": [
    {
     "data": {
      "text/plain": [
       "<Handle print('hello world')()>"
      ]
     },
     "execution_count": 1,
     "metadata": {},
     "output_type": "execute_result"
    }
   ],
   "source": [
    "import asyncio\n",
    "import functools\n",
    "\n",
    "loop = asyncio.get_event_loop()\n",
    "loop.call_soon_threadsafe(functools.partial(print, 'hello world'))"
   ]
  },
  {
   "cell_type": "code",
   "execution_count": 2,
   "metadata": {},
   "outputs": [],
   "source": [
    "@asyncio.coroutine\n",
    "def coro_sum(*args):\n",
    "    answer = 0\n",
    "    for i in args:\n",
    "        answer += i\n",
    "    return answer"
   ]
  },
  {
   "cell_type": "code",
   "execution_count": 3,
   "metadata": {},
   "outputs": [
    {
     "name": "stdout",
     "output_type": "stream",
     "text": [
      "hello world\n"
     ]
    },
    {
     "data": {
      "text/plain": [
       "9"
      ]
     },
     "execution_count": 3,
     "metadata": {},
     "output_type": "execute_result"
    }
   ],
   "source": [
    "loop.run_until_complete(coro_sum(1, 2, 3, 3))"
   ]
  },
  {
   "cell_type": "code",
   "execution_count": 8,
   "metadata": {},
   "outputs": [
    {
     "name": "stdout",
     "output_type": "stream",
     "text": [
      "6\n"
     ]
    }
   ],
   "source": [
    "try:\n",
    "    next(coro_sum(1, 2, 3))\n",
    "except StopIteration as ex:\n",
    "    print(ex.value)"
   ]
  },
  {
   "cell_type": "code",
   "execution_count": 9,
   "metadata": {},
   "outputs": [
    {
     "data": {
      "text/plain": [
       "[5, 7, 9, 11]"
      ]
     },
     "execution_count": 9,
     "metadata": {},
     "output_type": "execute_result"
    }
   ],
   "source": [
    "@asyncio.coroutine\n",
    "def nested(*args):\n",
    "    return [i + 1 for i in args]\n",
    "\n",
    "\n",
    "@asyncio.coroutine\n",
    "def outer(*args):\n",
    "    answer = yield from nested(*[i * 2 for i in args])\n",
    "    return answer\n",
    "\n",
    "loop = asyncio.get_event_loop()\n",
    "loop.run_until_complete(outer(2, 3, 4, 5))"
   ]
  },
  {
   "cell_type": "code",
   "execution_count": 12,
   "metadata": {},
   "outputs": [
    {
     "name": "stdout",
     "output_type": "stream",
     "text": [
      "hello\n"
     ]
    },
    {
     "data": {
      "text/plain": [
       "52"
      ]
     },
     "execution_count": 12,
     "metadata": {},
     "output_type": "execute_result"
    }
   ],
   "source": [
    "import time\n",
    "\n",
    "\n",
    "@asyncio.coroutine\n",
    "def outer():\n",
    "    time.sleep(3)\n",
    "    print('hello')\n",
    "    return 52\n",
    "    \n",
    "loop = asyncio.get_event_loop()\n",
    "loop.run_until_complete(outer())"
   ]
  },
  {
   "cell_type": "code",
   "execution_count": 13,
   "metadata": {},
   "outputs": [
    {
     "name": "stdout",
     "output_type": "stream",
     "text": [
      "now making green tea\nthe green tea is made\n"
     ]
    },
    {
     "data": {
      "text/plain": [
       "'green tea'"
      ]
     },
     "execution_count": 13,
     "metadata": {},
     "output_type": "execute_result"
    }
   ],
   "source": [
    "@asyncio.coroutine\n",
    "def make_tea(var):\n",
    "    print(\"now making %s tea\" % var)\n",
    "    return \"%s tea\" % var\n",
    "\n",
    "\n",
    "def confirm_tea(future):\n",
    "    print(\"the %s is made\" % future.result())\n",
    "\n",
    "task = asyncio.async(make_tea(\"green\"))\n",
    "task.add_done_callback(confirm_tea)\n",
    "loop.run_until_complete(task)"
   ]
  },
  {
   "cell_type": "code",
   "execution_count": 2,
   "metadata": {},
   "outputs": [
    {
     "data": {
      "text/plain": [
       "1"
      ]
     },
     "execution_count": 2,
     "metadata": {},
     "output_type": "execute_result"
    }
   ],
   "source": [
    "import asyncio\n",
    "\n",
    "queue = asyncio.Queue()\n",
    "queue.put_nowait('foo')\n",
    "queue.qsize()"
   ]
  },
  {
   "cell_type": "code",
   "execution_count": 3,
   "metadata": {},
   "outputs": [
    {
     "data": {
      "text/plain": [
       "0"
      ]
     },
     "execution_count": 3,
     "metadata": {},
     "output_type": "execute_result"
    }
   ],
   "source": [
    "queue.get_nowait()\n",
    "queue.qsize()"
   ]
  },
  {
   "cell_type": "code",
   "execution_count": 4,
   "metadata": {},
   "outputs": [
    {
     "data": {
      "text/plain": [
       "'foo'"
      ]
     },
     "execution_count": 4,
     "metadata": {},
     "output_type": "execute_result"
    }
   ],
   "source": [
    "loop = asyncio.get_event_loop()\n",
    "queue = asyncio.Queue()\n",
    "\n",
    "queue.put_nowait('foo')\n",
    "loop.run_until_complete(queue.get())"
   ]
  },
  {
   "cell_type": "code",
   "execution_count": 5,
   "metadata": {},
   "outputs": [
    {
     "data": {
      "text/plain": [
       "0"
      ]
     },
     "execution_count": 5,
     "metadata": {},
     "output_type": "execute_result"
    }
   ],
   "source": [
    "queue.put('foo')\n",
    "queue.qsize()"
   ]
  },
  {
   "cell_type": "code",
   "execution_count": 6,
   "metadata": {},
   "outputs": [],
   "source": [
    "loop.run_until_complete(queue.put('foo'))"
   ]
  },
  {
   "cell_type": "code",
   "execution_count": 8,
   "metadata": {},
   "outputs": [
    {
     "ename": "QueueEmpty",
     "evalue": "",
     "traceback": [
      "\u001b[0;31m---------------------------------------------------------------------------\u001b[0m",
      "\u001b[0;31mQueueEmpty\u001b[0m                                Traceback (most recent call last)",
      "\u001b[0;32m<ipython-input-8-1fe28eba02dc>\u001b[0m in \u001b[0;36m<module>\u001b[0;34m()\u001b[0m\n\u001b[0;32m----> 1\u001b[0;31m \u001b[0mqueue\u001b[0m\u001b[1;33m.\u001b[0m\u001b[0mget_nowait\u001b[0m\u001b[1;33m(\u001b[0m\u001b[1;33m)\u001b[0m\u001b[1;33m\u001b[0m\u001b[0m\n\u001b[0m",
      "\u001b[0;32mD:\\Users\\a\\Anaconda3\\lib\\asyncio\\queues.py\u001b[0m in \u001b[0;36mget_nowait\u001b[0;34m(self)\u001b[0m\n\u001b[1;32m    182\u001b[0m         \"\"\"\n\u001b[1;32m    183\u001b[0m         \u001b[1;32mif\u001b[0m \u001b[0mself\u001b[0m\u001b[1;33m.\u001b[0m\u001b[0mempty\u001b[0m\u001b[1;33m(\u001b[0m\u001b[1;33m)\u001b[0m\u001b[1;33m:\u001b[0m\u001b[1;33m\u001b[0m\u001b[0m\n\u001b[0;32m--> 184\u001b[0;31m             \u001b[1;32mraise\u001b[0m \u001b[0mQueueEmpty\u001b[0m\u001b[1;33m\u001b[0m\u001b[0m\n\u001b[0m\u001b[1;32m    185\u001b[0m         \u001b[0mitem\u001b[0m \u001b[1;33m=\u001b[0m \u001b[0mself\u001b[0m\u001b[1;33m.\u001b[0m\u001b[0m_get\u001b[0m\u001b[1;33m(\u001b[0m\u001b[1;33m)\u001b[0m\u001b[1;33m\u001b[0m\u001b[0m\n\u001b[1;32m    186\u001b[0m         \u001b[0mself\u001b[0m\u001b[1;33m.\u001b[0m\u001b[0m_wakeup_next\u001b[0m\u001b[1;33m(\u001b[0m\u001b[0mself\u001b[0m\u001b[1;33m.\u001b[0m\u001b[0m_putters\u001b[0m\u001b[1;33m)\u001b[0m\u001b[1;33m\u001b[0m\u001b[0m\n",
      "\u001b[0;31mQueueEmpty\u001b[0m: "
     ],
     "output_type": "error"
    }
   ],
   "source": [
    "queue.get_nowait()"
   ]
  },
  {
   "cell_type": "code",
   "execution_count": 9,
   "metadata": {},
   "outputs": [
    {
     "data": {
      "text/plain": [
       "(set(),\n {<Task pending coro=<Queue.get() running at D:\\Users\\a\\Anaconda3\\lib\\asyncio\\queues.py:168> wait_for=<Future pending cb=[Task._wakeup()]>>})"
      ]
     },
     "execution_count": 9,
     "metadata": {},
     "output_type": "execute_result"
    }
   ],
   "source": [
    "loop = asyncio.get_event_loop()\n",
    "queue = asyncio.Queue()\n",
    "\n",
    "task = asyncio.async(queue.get())\n",
    "coro = asyncio.wait([task] ,timeout=1)\n",
    "\n",
    "loop.run_until_complete(coro)"
   ]
  },
  {
   "cell_type": "code",
   "execution_count": 11,
   "metadata": {},
   "outputs": [
    {
     "data": {
      "text/plain": [
       "False"
      ]
     },
     "execution_count": 11,
     "metadata": {},
     "output_type": "execute_result"
    }
   ],
   "source": [
    "queue.put_nowait('foo')\n",
    "task.done()"
   ]
  },
  {
   "cell_type": "code",
   "execution_count": 13,
   "metadata": {},
   "outputs": [],
   "source": [
    "import functools\n",
    "\n",
    "\n",
    "def stop(l, future):\n",
    "    l.stop()\n",
    "\n",
    "task.add_done_callback(functools.partial(stop, loop))\n",
    "loop.run_forever()\n"
   ]
  },
  {
   "cell_type": "code",
   "execution_count": 14,
   "metadata": {},
   "outputs": [
    {
     "data": {
      "text/plain": [
       "True"
      ]
     },
     "execution_count": 14,
     "metadata": {},
     "output_type": "execute_result"
    }
   ],
   "source": [
    "task.done()"
   ]
  },
  {
   "cell_type": "code",
   "execution_count": 15,
   "metadata": {},
   "outputs": [
    {
     "data": {
      "text/plain": [
       "'foo'"
      ]
     },
     "execution_count": 15,
     "metadata": {},
     "output_type": "execute_result"
    }
   ],
   "source": [
    "task.result()"
   ]
  },
  {
   "cell_type": "heading",
   "metadata": {},
   "level": 2,
   "source": [
    "任务聚集"
   ]
  },
  {
   "cell_type": "markdown",
   "metadata": {},
   "source": [
    "asyncio 模块提供了一种聚合任务的遍历方法。聚合任务主要归于两个原因。第一个原因是在一组任务中的任何任务完成后采取某些行动。第二个原因是在所在任务都完成后采取某些行动"
   ]
  },
  {
   "cell_type": "heading",
   "metadata": {},
   "level": 4,
   "source": [
    "聚集任务"
   ]
  },
  {
   "cell_type": "code",
   "execution_count": 16,
   "metadata": {},
   "outputs": [],
   "source": [
    "import asyncio\n",
    "\n",
    "loop = asyncio.get_event_loop()\n",
    "\n",
    "\n",
    "@asyncio.coroutine\n",
    "def make_tea(variety):\n",
    "    print('now making %s tea' % variety)\n",
    "    return '%s tea' % variety\n",
    "\n",
    "meta_task = asyncio.gather(\n",
    "    make_tea('chamomile'),\n",
    "    make_tea('green'),\n",
    "    make_tea('herbal')\n",
    ")"
   ]
  },
  {
   "cell_type": "code",
   "execution_count": 17,
   "metadata": {},
   "outputs": [
    {
     "data": {
      "text/plain": [
       "False"
      ]
     },
     "execution_count": 17,
     "metadata": {},
     "output_type": "execute_result"
    }
   ],
   "source": [
    "meta_task.done()"
   ]
  },
  {
   "cell_type": "code",
   "execution_count": 18,
   "metadata": {},
   "outputs": [
    {
     "name": "stdout",
     "output_type": "stream",
     "text": [
      "now making herbal tea\nnow making green tea\nnow making chamomile tea\n"
     ]
    },
    {
     "data": {
      "text/plain": [
       "['chamomile tea', 'green tea', 'herbal tea']"
      ]
     },
     "execution_count": 18,
     "metadata": {},
     "output_type": "execute_result"
    }
   ],
   "source": [
    "loop.run_until_complete(meta_task)"
   ]
  },
  {
   "cell_type": "code",
   "execution_count": 19,
   "metadata": {},
   "outputs": [
    {
     "data": {
      "text/plain": [
       "True"
      ]
     },
     "execution_count": 19,
     "metadata": {},
     "output_type": "execute_result"
    }
   ],
   "source": [
    "meta_task.done()"
   ]
  },
  {
   "cell_type": "code",
   "execution_count": 23,
   "metadata": {},
   "outputs": [
    {
     "name": "stderr",
     "output_type": "stream",
     "text": [
      "Exception in callback <_GatheringFuture finished result=['chamomile tea', 'green tea', 'herbal tea']>(<_GatheringFu...'herbal tea']>)\nhandle: <Handle <_GatheringFuture finished result=['chamomile tea', 'green tea', 'herbal tea']>(<_GatheringFu...'herbal tea']>)>\nTraceback (most recent call last):\n  File \"D:\\Users\\a\\Anaconda3\\lib\\asyncio\\events.py\", line 125, in _run\n    self._callback(*self._args)\nTypeError: '_GatheringFuture' object is not callable\n"
     ]
    },
    {
     "name": "stdout",
     "output_type": "stream",
     "text": [
      "now making green tea\nnow making chamomile tea\nnow making herbal tea\n"
     ]
    },
    {
     "data": {
      "text/plain": [
       "['chamomile tea', 'green tea', 'herbal tea']"
      ]
     },
     "execution_count": 23,
     "metadata": {},
     "output_type": "execute_result"
    }
   ],
   "source": [
    "meta_task = asyncio.gather(\n",
    "    make_tea('chamomile'),\n",
    "    make_tea('green'),\n",
    "    make_tea('herbal')\n",
    ")\n",
    "\n",
    "\n",
    "def mix(future):\n",
    "    print('mixing the %s together' % ' and '.join(future.result()))\n",
    "\n",
    "meta_task.add_done_callback(meta_task)\n",
    "loop.run_until_complete(meta_task)"
   ]
  },
  {
   "cell_type": "heading",
   "metadata": {},
   "level": 4,
   "source": [
    "等待任务"
   ]
  },
  {
   "cell_type": "code",
   "execution_count": 24,
   "metadata": {},
   "outputs": [
    {
     "name": "stdout",
     "output_type": "stream",
     "text": [
      "now making herbal tea\nnow making green tea\n"
     ]
    },
    {
     "data": {
      "text/plain": [
       "({<Task finished coro=<make_tea() done, defined at D:\\Users\\a\\Anaconda3\\lib\\asyncio\\coroutines.py:204> result='herbal tea'>,\n  <Task finished coro=<make_tea() done, defined at D:\\Users\\a\\Anaconda3\\lib\\asyncio\\coroutines.py:204> result='green tea'>},\n set())"
      ]
     },
     "execution_count": 24,
     "metadata": {},
     "output_type": "execute_result"
    }
   ],
   "source": [
    "loop = asyncio.get_event_loop()\n",
    "\n",
    "\n",
    "@asyncio.coroutine\n",
    "def make_tea(variety):\n",
    "    print('now making %s tea' % variety)\n",
    "    return '%s tea' % variety\n",
    "\n",
    "coro = asyncio.wait([make_tea('green'), make_tea('herbal')])\n",
    "\n",
    "loop.run_until_complete(coro)"
   ]
  },
  {
   "cell_type": "code",
   "execution_count": 25,
   "metadata": {},
   "outputs": [
    {
     "data": {
      "text/plain": [
       "<generator object wait at 0x000001346C4FBF10>"
      ]
     },
     "execution_count": 25,
     "metadata": {},
     "output_type": "execute_result"
    }
   ],
   "source": [
    "coro"
   ]
  },
  {
   "cell_type": "code",
   "execution_count": 26,
   "metadata": {},
   "outputs": [
    {
     "data": {
      "text/plain": [
       "({<Task finished coro=<sleep() done, defined at D:\\Users\\a\\Anaconda3\\lib\\asyncio\\tasks.py:502> result=None>},\n {<Task pending coro=<sleep() running at D:\\Users\\a\\Anaconda3\\lib\\asyncio\\tasks.py:516> wait_for=<Future pending cb=[Task._wakeup()]>>})"
      ]
     },
     "execution_count": 26,
     "metadata": {},
     "output_type": "execute_result"
    }
   ],
   "source": [
    "loop = asyncio.get_event_loop()\n",
    "coro = asyncio.wait([asyncio.sleep(5), asyncio.sleep(1)], timeout=3)\n",
    "loop.run_until_complete(coro)"
   ]
  },
  {
   "cell_type": "code",
   "execution_count": 27,
   "metadata": {},
   "outputs": [
    {
     "data": {
      "text/plain": [
       "({<Task finished coro=<sleep() done, defined at D:\\Users\\a\\Anaconda3\\lib\\asyncio\\tasks.py:502> result=None>},\n {<Task pending coro=<sleep() running at D:\\Users\\a\\Anaconda3\\lib\\asyncio\\tasks.py:516> wait_for=<Future pending cb=[Task._wakeup()]>>,\n  <Task pending coro=<sleep() running at D:\\Users\\a\\Anaconda3\\lib\\asyncio\\tasks.py:516> wait_for=<Future pending cb=[Task._wakeup()]>>})"
      ]
     },
     "execution_count": 27,
     "metadata": {},
     "output_type": "execute_result"
    }
   ],
   "source": [
    "coro = asyncio.wait([\n",
    "    asyncio.sleep(1),\n",
    "    asyncio.sleep(3),\n",
    "    asyncio.sleep(2)\n",
    "], return_when=asyncio.FIRST_COMPLETED)\n",
    "\n",
    "loop.run_until_complete(coro)"
   ]
  },
  {
   "cell_type": "code",
   "execution_count": 28,
   "metadata": {},
   "outputs": [
    {
     "data": {
      "text/plain": [
       "({<Task finished coro=<sleep() done, defined at D:\\Users\\a\\Anaconda3\\lib\\asyncio\\tasks.py:502> result=None>,\n  <Task finished coro=<sleep() done, defined at D:\\Users\\a\\Anaconda3\\lib\\asyncio\\tasks.py:502> result=None>,\n  <Task finished coro=<raise_ex_after() done, defined at <ipython-input-28-9dc7904612bc>:1> exception=RuntimeError('raising an exception',)>},\n {<Task pending coro=<sleep() running at D:\\Users\\a\\Anaconda3\\lib\\asyncio\\tasks.py:516> wait_for=<Future pending cb=[Task._wakeup()]>>})"
      ]
     },
     "execution_count": 28,
     "metadata": {},
     "output_type": "execute_result"
    }
   ],
   "source": [
    "@asyncio.coroutine\n",
    "def raise_ex_after(seconds):\n",
    "    yield from asyncio.sleep(seconds)\n",
    "    raise RuntimeError('raising an exception')\n",
    "\n",
    "coro = asyncio.wait([asyncio.sleep(1), asyncio.sleep(2), raise_ex_after(3), asyncio.sleep(4)],\n",
    "                    return_when=asyncio.FIRST_EXCEPTION)\n",
    "\n",
    "loop.run_until_complete(coro)\n"
   ]
  },
  {
   "cell_type": "code",
   "execution_count": 30,
   "metadata": {},
   "outputs": [
    {
     "data": {
      "text/plain": [
       "({<Task finished coro=<sleep() done, defined at D:\\Users\\a\\Anaconda3\\lib\\asyncio\\tasks.py:502> result=None>,\n  <Task finished coro=<sleep() done, defined at D:\\Users\\a\\Anaconda3\\lib\\asyncio\\tasks.py:502> result=None>,\n  <Task finished coro=<sleep() done, defined at D:\\Users\\a\\Anaconda3\\lib\\asyncio\\tasks.py:502> result=None>},\n set())"
      ]
     },
     "execution_count": 30,
     "metadata": {},
     "output_type": "execute_result"
    }
   ],
   "source": [
    "coro = asyncio.wait([asyncio.sleep(1), asyncio.sleep(2), asyncio.sleep(4)], return_when=asyncio.FIRST_EXCEPTION)\n",
    "loop.run_until_complete(coro)"
   ]
  },
  {
   "cell_type": "code",
   "execution_count": null,
   "metadata": {},
   "outputs": [],
   "source": [
    ""
   ]
  }
 ],
 "metadata": {
  "kernelspec": {
   "display_name": "Python 2",
   "language": "python",
   "name": "python2"
  },
  "language_info": {
   "codemirror_mode": {
    "name": "ipython",
    "version": 2.0
   },
   "file_extension": ".py",
   "mimetype": "text/x-python",
   "name": "python",
   "nbconvert_exporter": "python",
   "pygments_lexer": "ipython2",
   "version": "2.7.6"
  }
 },
 "nbformat": 4,
 "nbformat_minor": 0
}