{
 "cells": [
  {
   "cell_type": "code",
   "execution_count": 2,
   "metadata": {
    "collapsed": true
   },
   "outputs": [
    {
     "data": {
      "text/plain": [
       "[3, 5]"
      ]
     },
     "execution_count": 2,
     "metadata": {},
     "output_type": "execute_result"
    }
   ],
   "source": [
    "class Registry(object):\n",
    "    def __init__(self):\n",
    "        self._functions = []\n",
    "\n",
    "    def regster(self, decorated):\n",
    "        self._functions.append(decorated)\n",
    "        return decorated\n",
    "    \n",
    "    def run_all(self, *args, **kwargs):\n",
    "        return_values = []\n",
    "        for func in self._functions:\n",
    "            return_values.append(func(*args, **kwargs))\n",
    "        return return_values\n",
    "\n",
    "\n",
    "a = Registry()\n",
    "b = Registry()\n",
    "\n",
    "\n",
    "@a.regster\n",
    "def foo(x=3):\n",
    "    return x\n",
    "\n",
    "\n",
    "@b.regster\n",
    "def foo(x=4):\n",
    "    return x\n",
    "\n",
    "\n",
    "@a.regster\n",
    "@b.regster\n",
    "def foo(x=5):\n",
    "    return x\n",
    "\n",
    "a.run_all()"
   ]
  },
  {
   "cell_type": "code",
   "execution_count": 3,
   "metadata": {},
   "outputs": [
    {
     "data": {
      "text/plain": [
       "[4, 5]"
      ]
     },
     "execution_count": 3,
     "metadata": {},
     "output_type": "execute_result"
    }
   ],
   "source": [
    "b.run_all()"
   ]
  },
  {
   "cell_type": "code",
   "execution_count": 3,
   "metadata": {},
   "outputs": [
    {
     "name": "stdout",
     "output_type": "stream",
     "text": [
      "Help on function inner in module __main__:\n\ninner(*args, **kwargs)\n\n"
     ]
    }
   ],
   "source": [
    "def require_ints(decorated):\n",
    "    def inner(*args, **kwargs):\n",
    "        for arg in args:\n",
    "            if not isinstance(arg,int):\n",
    "                raise TypeError(\"%d only \" %decorated.__name__)\n",
    "        return decorated(*args,**kwargs)\n",
    "    return inner\n",
    "\n",
    "\n",
    "@require_ints\n",
    "def foo(x, y):\n",
    "    \"\"\"return the sum of x and y\"\"\"\n",
    "    return x+y\n",
    "\n",
    "help(foo)"
   ]
  },
  {
   "cell_type": "code",
   "execution_count": 5,
   "metadata": {},
   "outputs": [
    {
     "name": "stdout",
     "output_type": "stream",
     "text": [
      "Help on function foo in module __main__:\n\nfoo(x, y)\n    return the sum of x and y\n\n"
     ]
    }
   ],
   "source": [
    "import functools\n",
    "\n",
    "\n",
    "def require_ints(decorated):\n",
    "    @functools.wraps(decorated)\n",
    "    def inner(*args, **kwargs):\n",
    "        for arg in args:\n",
    "            if not isinstance(arg,int):\n",
    "                raise TypeError(\"%d only \" %decorated.__name__)\n",
    "        return decorated(*args,**kwargs)\n",
    "    return inner\n",
    "\n",
    "\n",
    "@require_ints\n",
    "def foo(x, y):\n",
    "    \"\"\"return the sum of x and y\"\"\"\n",
    "    return x+y\n",
    "\n",
    "help(foo)"
   ]
  },
  {
   "cell_type": "code",
   "execution_count": 6,
   "metadata": {},
   "outputs": [
    {
     "name": "stderr",
     "output_type": "stream",
     "text": [
      "D:\\Users\\a\\Anaconda3\\lib\\site-packages\\ipykernel\\__main__.py:15: DeprecationWarning: The 'warn' method is deprecated, use 'warning' instead\ncalled method sleep_and_return at 1541407904.76; execution time 2.00,seconds; result 42\n"
     ]
    },
    {
     "data": {
      "text/plain": [
       "42"
      ]
     },
     "execution_count": 6,
     "metadata": {},
     "output_type": "execute_result"
    }
   ],
   "source": [
    "import functools\n",
    "import logging\n",
    "import time\n",
    "\n",
    "\n",
    "def logged(method):\n",
    "    @functools.wraps(method)\n",
    "    def inner(*args, **kwargs):\n",
    "        start = time.time()\n",
    "        result = method(*args, **kwargs)\n",
    "        end = time.time()\n",
    "        delta = end - start\n",
    "        logger = logging.getLogger('decorator.logged')\n",
    "        logger.warn('called method %s at %.2f; execution time %.2f,seconds; result %r' %\n",
    "                    (method.__name__, start, delta, result))\n",
    "\n",
    "        return result\n",
    "    return inner\n",
    "\n",
    "\n",
    "@logged\n",
    "def sleep_and_return(re_value):\n",
    "    time.sleep(2)\n",
    "    return re_value\n",
    "\n",
    "\n",
    "sleep_and_return(42)"
   ]
  },
  {
   "cell_type": "code",
   "execution_count": 7,
   "metadata": {},
   "outputs": [],
   "source": [
    "import json\n",
    "\n",
    "\n",
    "class JSONoutputError(Exception):\n",
    "    def __init__(self, mes):\n",
    "        self._message = mes\n",
    "        \n",
    "    def __str__(self):\n",
    "        return self._message\n",
    "    \n",
    "\n",
    "def json_output(indent=None, sort_keys=False):    \n",
    "    def actual_decorator(func):\n",
    "        @functools.wraps(func)\n",
    "        def inner(*args, **kwargs):\n",
    "            try:\n",
    "                result = func(*args, **kwargs)\n",
    "                \n",
    "            except JSONoutputError as ex:\n",
    "                result = {\n",
    "                    \"status\": 'error',\n",
    "                    \"message\": str(ex)\n",
    "                }\n",
    "            return json.dumps(result, indent=indent, sort_keys=sort_keys)\n",
    "        return inner\n",
    "    return actual_decorator"
   ]
  },
  {
   "cell_type": "code",
   "execution_count": 8,
   "metadata": {},
   "outputs": [
    {
     "data": {
      "text/plain": [
       "'{\\n   \"status\": \"done\"\\n}'"
      ]
     },
     "execution_count": 8,
     "metadata": {},
     "output_type": "execute_result"
    }
   ],
   "source": [
    "@json_output(indent=3)\n",
    "def do_nothing():\n",
    "    return {'status': 'done'}\n",
    "\n",
    "do_nothing()"
   ]
  },
  {
   "cell_type": "code",
   "execution_count": 9,
   "metadata": {},
   "outputs": [],
   "source": [
    "def json_output(func):\n",
    "    @functools.wraps(func)\n",
    "    def inner(*args, **kwargs):\n",
    "        try:\n",
    "            result = func(*args, **kwargs)\n",
    "\n",
    "        except JSONoutputError as ex:\n",
    "            result = {\n",
    "                \"status\": 'error',\n",
    "                \"message\": str(ex)\n",
    "            }\n",
    "        return json.dumps(result)\n",
    "    return inner"
   ]
  },
  {
   "cell_type": "code",
   "execution_count": 10,
   "metadata": {},
   "outputs": [
    {
     "data": {
      "text/plain": [
       "'{\"status\": \"done\"}'"
      ]
     },
     "execution_count": 10,
     "metadata": {},
     "output_type": "execute_result"
    }
   ],
   "source": [
    "@json_output\n",
    "def do_nothing1():\n",
    "    return {'status': 'done'}\n",
    "\n",
    "do_nothing1()"
   ]
  },
  {
   "cell_type": "code",
   "execution_count": 11,
   "metadata": {},
   "outputs": [],
   "source": [
    "import json\n",
    "\n",
    "\n",
    "class JSONoutputError(Exception):\n",
    "    def __init__(self, mes):\n",
    "        self._message = mes\n",
    "        \n",
    "    def __str__(self):\n",
    "        return self._message\n",
    "    \n",
    "\n",
    "def json_output(decorated_=None, indent=None, sort_keys=False):\n",
    "    if decorated_ and (indent or sort_keys):\n",
    "        raise RuntimeError(\"inexpected arguments\")\n",
    "        \n",
    "    def actual_decorator(func):\n",
    "        @functools.wraps(func)\n",
    "        def inner(*args, **kwargs):\n",
    "            try:\n",
    "                result = func(*args, **kwargs)\n",
    "                \n",
    "            except JSONoutputError as ex:\n",
    "                result = {\n",
    "                    \"status\": 'error',\n",
    "                    \"message\": str(ex)\n",
    "                }\n",
    "            return json.dumps(result, indent=indent, sort_keys=sort_keys)\n",
    "        return inner\n",
    "    if decorated_:\n",
    "        return actual_decorator(decorated_)\n",
    "    else:\n",
    "        return actual_decorator"
   ]
  },
  {
   "cell_type": "code",
   "execution_count": 12,
   "metadata": {},
   "outputs": [
    {
     "data": {
      "text/plain": [
       "'{\"status\": \"done\"}'"
      ]
     },
     "execution_count": 12,
     "metadata": {},
     "output_type": "execute_result"
    }
   ],
   "source": [
    "@json_output\n",
    "def do_nothing1():\n",
    "    return {'status': 'done'}\n",
    "\n",
    "do_nothing1()"
   ]
  },
  {
   "cell_type": "code",
   "execution_count": 13,
   "metadata": {},
   "outputs": [
    {
     "data": {
      "text/plain": [
       "'{\\n   \"status\": \"done\"\\n}'"
      ]
     },
     "execution_count": 13,
     "metadata": {},
     "output_type": "execute_result"
    }
   ],
   "source": [
    "@json_output(indent=3)\n",
    "def do_nothing():\n",
    "    return {'status': 'done'}\n",
    "\n",
    "do_nothing()"
   ]
  },
  {
   "cell_type": "code",
   "execution_count": 14,
   "metadata": {},
   "outputs": [
    {
     "data": {
      "text/plain": [
       "[first, 2, 3]"
      ]
     },
     "execution_count": 14,
     "metadata": {},
     "output_type": "execute_result"
    }
   ],
   "source": [
    "def sort_by_creation_time(cls):\n",
    "    original_init = cls.__init__\n",
    "\n",
    "    @functools.wraps(original_init)\n",
    "    def new_init(self, *args, **kwargs):\n",
    "        original_init(self, *args, **kwargs)\n",
    "        self._creation_time = time.time()\n",
    "    cls.__init__ = new_init\n",
    "\n",
    "    cls.__lt__ = lambda self, other: self._creation_time < other._creation_time\n",
    "    cls.__gt__ = lambda self, other: self._creation_time > other._creation_time\n",
    "    return cls\n",
    "\n",
    "\n",
    "@sort_by_creation_time\n",
    "class Sortable(object):\n",
    "    def __init__(self, identifier):\n",
    "        self._identifier = identifier\n",
    "    \n",
    "    def __repr__(self):\n",
    "        return self._identifier\n",
    "\n",
    "first = Sortable('first')\n",
    "second = Sortable(\"2\")\n",
    "third = Sortable(\"3\")\n",
    "sortables = [first, second, third]\n",
    "\n",
    "sorted(sortables)"
   ]
  },
  {
   "cell_type": "code",
   "execution_count": 20,
   "metadata": {},
   "outputs": [
    {
     "data": {
      "text/plain": [
       "4"
      ]
     },
     "execution_count": 20,
     "metadata": {},
     "output_type": "execute_result"
    }
   ],
   "source": [
    "class Task(object):\n",
    "    def run(self, *args, **kwargs):\n",
    "        raise NotImplementedError(\"subclasses must implement 'run'\")\n",
    "    \n",
    "    def identify(self):\n",
    "        return \"i am a task\"\n",
    "    \n",
    "\n",
    "def task(decorated):\n",
    "    class Tasksubclass(Task):\n",
    "        def run(self, *args, **kwargs):\n",
    "            return decorated(*args, **kwargs)\n",
    "    return Tasksubclass\n",
    "\n",
    "\n",
    "@task\n",
    "def foo():\n",
    "    return 2+2\n",
    "\n",
    "f = foo()\n",
    "f.run()"
   ]
  },
  {
   "cell_type": "code",
   "execution_count": 21,
   "metadata": {},
   "outputs": [
    {
     "data": {
      "text/plain": [
       "'i am a task'"
      ]
     },
     "execution_count": 21,
     "metadata": {},
     "output_type": "execute_result"
    }
   ],
   "source": [
    "f.identify()"
   ]
  },
  {
   "cell_type": "code",
   "execution_count": 34,
   "metadata": {},
   "outputs": [
    {
     "data": {
      "text/plain": [
       "'i am a task'"
      ]
     },
     "execution_count": 34,
     "metadata": {},
     "output_type": "execute_result"
    }
   ],
   "source": [
    "class Task(object):\n",
    "    def run(self, *args, **kwargs):\n",
    "        raise NotImplementedError(\"subclasses must implement 'run'\")\n",
    "    \n",
    "    def identify(self):\n",
    "        return \"i am a task\"\n",
    "\n",
    "    def __call__(self, *args, **kwargs):\n",
    "        return self.run(self, *args, **kwargs)\n",
    "\n",
    "\n",
    "def task(decorated):\n",
    "    class Tasksubclass(Task):\n",
    "        def run(self, *args, **kwargs):\n",
    "            return decorated()\n",
    "    return Tasksubclass()\n",
    "\n",
    "\n",
    "@task\n",
    "def foo():\n",
    "    return 2 + 2\n",
    "\n",
    "foo.identify()"
   ]
  },
  {
   "cell_type": "code",
   "execution_count": 35,
   "metadata": {},
   "outputs": [
    {
     "data": {
      "text/plain": [
       "4"
      ]
     },
     "execution_count": 35,
     "metadata": {},
     "output_type": "execute_result"
    }
   ],
   "source": [
    "foo()"
   ]
  },
  {
   "cell_type": "code",
   "execution_count": 36,
   "metadata": {},
   "outputs": [
    {
     "data": {
      "text/plain": [
       "__main__.task.<locals>.Tasksubclass"
      ]
     },
     "execution_count": 36,
     "metadata": {},
     "output_type": "execute_result"
    }
   ],
   "source": [
    ""
   ]
  },
  {
   "cell_type": "code",
   "execution_count": null,
   "metadata": {},
   "outputs": [],
   "source": [
    ""
   ]
  }
 ],
 "metadata": {
  "kernelspec": {
   "display_name": "Python 2",
   "language": "python",
   "name": "python2"
  },
  "language_info": {
   "codemirror_mode": {
    "name": "ipython",
    "version": 2.0
   },
   "file_extension": ".py",
   "mimetype": "text/x-python",
   "name": "python",
   "nbconvert_exporter": "python",
   "pygments_lexer": "ipython2",
   "version": "2.7.6"
  }
 },
 "nbformat": 4,
 "nbformat_minor": 0
}